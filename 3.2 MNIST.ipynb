{
 "cells": [
  {
   "cell_type": "code",
   "execution_count": 2,
   "metadata": {},
   "outputs": [],
   "source": [
    "import tensorflow as tf\n",
    "from tensorflow.examples.tutorials.mnist import input_data"
   ]
  },
  {
   "cell_type": "code",
   "execution_count": 43,
   "metadata": {},
   "outputs": [
    {
     "name": "stdout",
     "output_type": "stream",
     "text": [
      "Extracting MNIST_data\\train-images-idx3-ubyte.gz\n",
      "Extracting MNIST_data\\train-labels-idx1-ubyte.gz\n",
      "Extracting MNIST_data\\t10k-images-idx3-ubyte.gz\n",
      "Extracting MNIST_data\\t10k-labels-idx1-ubyte.gz\n",
      "step:0 accurancy:0.8239\n",
      "step:1 accurancy:0.8901\n",
      "step:2 accurancy:0.9007\n",
      "step:3 accurancy:0.9057\n",
      "step:4 accurancy:0.9087\n",
      "step:5 accurancy:0.9104\n",
      "step:6 accurancy:0.9122\n",
      "step:7 accurancy:0.9132\n",
      "step:8 accurancy:0.9152\n",
      "step:9 accurancy:0.9159\n",
      "step:10 accurancy:0.9171\n",
      "step:11 accurancy:0.918\n",
      "step:12 accurancy:0.9188\n",
      "step:13 accurancy:0.9198\n",
      "step:14 accurancy:0.9203\n",
      "step:15 accurancy:0.9201\n",
      "step:16 accurancy:0.9199\n",
      "step:17 accurancy:0.9204\n",
      "step:18 accurancy:0.9216\n",
      "step:19 accurancy:0.9211\n"
     ]
    }
   ],
   "source": [
    "#load data\n",
    "mnist = input_data.read_data_sets(\"MNIST_data\", one_hot=True)\n",
    "\n",
    "batch_size = 100\n",
    "\n",
    "batch_count = mnist.train.num_examples // batch_size\n",
    "\n",
    "#define place holder\n",
    "x = tf.placeholder(tf.float32, [None, 784])\n",
    "y = tf.placeholder(tf.float32, [None, 10])\n",
    "\n",
    "#create a 1-level neural network\n",
    "W = tf.Variable(tf.zeros([784, 10]))\n",
    "b = tf.Variable(tf.zeros([10]))\n",
    "prediction = tf.nn.softmax(tf.matmul(x, W)+b)\n",
    "\n",
    "#二次代价函数\n",
    "# loss = tf.reduce_mean(tf.square(y - prediction))\n",
    "loss = tf.reduce_mean(tf.nn.softmax_cross_entropy_with_logits_v2(labels=y, logits=prediction))\n",
    "# loss = tf.reduce_mean(tf.nn.sigmoid_cross_entropy_with_logits(labels=y, logits=prediction))\n",
    "\n",
    "#train\n",
    "train = tf.train.GradientDescentOptimizer(0.2).minimize(loss)\n",
    "\n",
    "init = tf.global_variables_initializer()\n",
    "\n",
    "#比较预测值与实际值\n",
    "correct_pred = tf.equal(tf.argmax(y, 1), tf.argmax(prediction, 1)) #argmax 返回沿着某个维度最大值的位置\n",
    "\n",
    "#准确率\n",
    "accuracy = tf.reduce_mean(tf.cast(correct_pred, tf.float32))\n",
    "\n",
    "with tf.Session() as sess:\n",
    "    sess.run(init)\n",
    "    \n",
    "    for step in range(20):\n",
    "        for batch in range(batch_count):\n",
    "            batch_xs, batch_ys = mnist.train.next_batch(batch_size)\n",
    "            sess.run(train, feed_dict={x:batch_xs, y:batch_ys})\n",
    "        \n",
    "        acc = sess.run(accuracy, feed_dict={x:mnist.test.images, y:mnist.test.labels})\n",
    "        print(\"step:\" + str(step) + \" accurancy:\" + str(acc))\n",
    "\n",
    "\n"
   ]
  },
  {
   "cell_type": "markdown",
   "metadata": {},
   "source": [
    "\n",
    "\n",
    "\n",
    "cross entropy:\n",
    "step:0 accurancy:0.8239\n",
    "step:1 accurancy:0.8901\n",
    "step:2 accurancy:0.9007\n",
    "step:3 accurancy:0.9057\n",
    "step:4 accurancy:0.9087\n",
    "step:5 accurancy:0.9104\n",
    "step:6 accurancy:0.9122\n",
    "step:7 accurancy:0.9132\n",
    "step:8 accurancy:0.9152\n",
    "step:9 accurancy:0.9159\n",
    "step:10 accurancy:0.9171\n",
    "step:11 accurancy:0.918\n",
    "step:12 accurancy:0.9188\n",
    "step:13 accurancy:0.9198\n",
    "step:14 accurancy:0.9203\n",
    "step:15 accurancy:0.9201\n",
    "step:16 accurancy:0.9199\n",
    "step:17 accurancy:0.9204\n",
    "step:18 accurancy:0.9216\n",
    "step:19 accurancy:0.9211"
   ]
  }
 ],
 "metadata": {
  "kernelspec": {
   "display_name": "Python 3",
   "language": "python",
   "name": "python3"
  },
  "language_info": {
   "codemirror_mode": {
    "name": "ipython",
    "version": 3
   },
   "file_extension": ".py",
   "mimetype": "text/x-python",
   "name": "python",
   "nbconvert_exporter": "python",
   "pygments_lexer": "ipython3",
   "version": "3.5.5"
  }
 },
 "nbformat": 4,
 "nbformat_minor": 2
}
