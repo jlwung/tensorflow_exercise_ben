{
 "cells": [
  {
   "cell_type": "code",
   "execution_count": 2,
   "metadata": {},
   "outputs": [
    {
     "name": "stdout",
     "output_type": "stream",
     "text": [
      "Extracting MNIST_data\\train-images-idx3-ubyte.gz\n",
      "Extracting MNIST_data\\train-labels-idx1-ubyte.gz\n",
      "Extracting MNIST_data\\t10k-images-idx3-ubyte.gz\n",
      "Extracting MNIST_data\\t10k-labels-idx1-ubyte.gz\n",
      "step:0 accurancy:0.8241\n"
     ]
    }
   ],
   "source": [
    "import tensorflow as tf\n",
    "from tensorflow.examples.tutorials.mnist import input_data\n",
    "\n",
    "#load data\n",
    "mnist = input_data.read_data_sets(\"MNIST_data\", one_hot=True)\n",
    "\n",
    "\n",
    "batch_size = 100\n",
    "\n",
    "batch_count = mnist.train.num_examples // batch_size\n",
    "\n",
    "with tf.name_scope('input'):\n",
    "    #define place holder\n",
    "    x = tf.placeholder(tf.float32, [None, 784], name='x_input')\n",
    "    y = tf.placeholder(tf.float32, [None, 10], name='y_input')\n",
    "\n",
    "with tf.name_scope('layer'):\n",
    "    with tf.name_scope('weights'):\n",
    "        #create a 1-level neural network\n",
    "        W = tf.Variable(tf.zeros([784, 10]), name='W')\n",
    "\n",
    "    with tf.name_scope('Biases'):\n",
    "        b = tf.Variable(tf.zeros([10]), name='B')\n",
    "    with tf.name_scope('wx_b'):\n",
    "        wx_b = tf.matmul(x, W)+b\n",
    "    with tf.name_scope('softmax'):\n",
    "        prediction = tf.nn.softmax(wx_b)\n",
    "\n",
    "with tf.name_scope('loss'):\n",
    "    #二次代价函数\n",
    "    # loss = tf.reduce_mean(tf.square(y - prediction))\n",
    "    loss = tf.reduce_mean(tf.nn.softmax_cross_entropy_with_logits_v2(labels=y, logits=prediction))\n",
    "    # loss = tf.reduce_mean(tf.nn.sigmoid_cross_entropy_with_logits(labels=y, logits=prediction))\n",
    "\n",
    "with tf.name_scope('train'):\n",
    "    #train\n",
    "    train = tf.train.GradientDescentOptimizer(0.2).minimize(loss)\n",
    "\n",
    "init = tf.global_variables_initializer()\n",
    "\n",
    "with tf.name_scope('accuracy'):\n",
    "    with tf.name_scope('correct_pred'):\n",
    "        #比较预测值与实际值\n",
    "        correct_pred = tf.equal(tf.argmax(y, 1), tf.argmax(prediction, 1)) #argmax 返回沿着某个维度最大值的位置\n",
    "    with tf.name_scope('accuracy'):\n",
    "        #准确率\n",
    "        accuracy = tf.reduce_mean(tf.cast(correct_pred, tf.float32))\n",
    "\n",
    "with tf.Session() as sess:\n",
    "    sess.run(init)\n",
    "    writer = tf.summary.FileWriter('logs/', sess.graph)\n",
    "    for step in range(1):\n",
    "        for batch in range(batch_count):\n",
    "            batch_xs, batch_ys = mnist.train.next_batch(batch_size)\n",
    "            sess.run(train, feed_dict={x:batch_xs, y:batch_ys})\n",
    "        \n",
    "        acc = sess.run(accuracy, feed_dict={x:mnist.test.images, y:mnist.test.labels})\n",
    "        print(\"step:\" + str(step) + \" accurancy:\" + str(acc))\n",
    "\n",
    "\n",
    "\n"
   ]
  },
  {
   "cell_type": "code",
   "execution_count": null,
   "metadata": {},
   "outputs": [],
   "source": []
  }
 ],
 "metadata": {
  "kernelspec": {
   "display_name": "Python 3",
   "language": "python",
   "name": "python3"
  },
  "language_info": {
   "codemirror_mode": {
    "name": "ipython",
    "version": 3
   },
   "file_extension": ".py",
   "mimetype": "text/x-python",
   "name": "python",
   "nbconvert_exporter": "python",
   "pygments_lexer": "ipython3",
   "version": "3.5.5"
  }
 },
 "nbformat": 4,
 "nbformat_minor": 2
}
