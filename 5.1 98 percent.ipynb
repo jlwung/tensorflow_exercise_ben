{
 "cells": [
  {
   "cell_type": "code",
   "execution_count": 1,
   "metadata": {},
   "outputs": [
    {
     "name": "stdout",
     "output_type": "stream",
     "text": [
      "Extracting MNIST_data\\train-images-idx3-ubyte.gz\n",
      "Extracting MNIST_data\\train-labels-idx1-ubyte.gz\n",
      "Extracting MNIST_data\\t10k-images-idx3-ubyte.gz\n",
      "Extracting MNIST_data\\t10k-labels-idx1-ubyte.gz\n",
      "step:0 accurancy:0.7732\n",
      "step:1 accurancy:0.8977\n",
      "step:2 accurancy:0.9071\n",
      "step:3 accurancy:0.9136\n",
      "step:4 accurancy:0.9127\n",
      "step:5 accurancy:0.9201\n",
      "step:6 accurancy:0.9185\n",
      "step:7 accurancy:0.9209\n",
      "step:8 accurancy:0.9206\n",
      "step:9 accurancy:0.9214\n",
      "step:10 accurancy:0.9225\n",
      "step:11 accurancy:0.9247\n",
      "step:12 accurancy:0.9243\n",
      "step:13 accurancy:0.9248\n",
      "step:14 accurancy:0.9239\n",
      "step:15 accurancy:0.924\n",
      "step:16 accurancy:0.9256\n",
      "step:17 accurancy:0.9246\n",
      "step:18 accurancy:0.925\n",
      "step:19 accurancy:0.9249\n"
     ]
    }
   ],
   "source": [
    "import tensorflow as tf\n",
    "from tensorflow.examples.tutorials.mnist import input_data\n",
    "#load data\n",
    "mnist = input_data.read_data_sets(\"MNIST_data\", one_hot=True)\n",
    "\n",
    "batch_size = 100\n",
    "\n",
    "batch_count = mnist.train.num_examples // batch_size\n",
    "\n",
    "#define place holder\n",
    "x = tf.placeholder(tf.float32, [None, 784])\n",
    "y = tf.placeholder(tf.float32, [None, 10])\n",
    "\n",
    "#create a 3-level neural network\n",
    "W1 = tf.Variable(tf.truncated_normal([784, 500], stddev=0.1))\n",
    "b1 = tf.Variable(tf.zeros([500])+0.1)\n",
    "L1 = tf.nn.softmax(tf.matmul(x, W1)+b1)\n",
    "\n",
    "W2 = tf.Variable(tf.truncated_normal([500, 300], stddev=0.1))\n",
    "b2 = tf.Variable(tf.zeros([300])+0.1)\n",
    "L2 = tf.nn.softmax(tf.matmul(L1, W2)+b2)\n",
    "\n",
    "W3 = tf.Variable(tf.truncated_normal([300, 10], stddev=0.1))\n",
    "b3 = tf.Variable(tf.zeros([10])+0.1)\n",
    "prediction = tf.nn.softmax(tf.matmul(L2, W3)+b3)\n",
    "\n",
    "#交叉熵代价函数\n",
    "# loss = tf.reduce_mean(tf.square(y - prediction))\n",
    "loss = tf.reduce_mean(tf.nn.softmax_cross_entropy_with_logits_v2(labels=y, logits=prediction))\n",
    "# loss = tf.reduce_mean(tf.nn.sigmoid_cross_entropy_with_logits(labels=y, logits=prediction))\n",
    "\n",
    "global_step = tf.Variable(0)\n",
    "learning_rate = tf.train.exponential_decay(0.01, global_step, 100, 0.96, staircase=True, name='learning_rate')\n",
    "\n",
    "#train\n",
    "# train = tf.train.GradientDescentOptimizer(0.1).minimize(loss)\n",
    "train = tf.train.AdamOptimizer(learning_rate).minimize(loss, global_step = global_step)\n",
    "\n",
    "init = tf.global_variables_initializer()\n",
    "\n",
    "#比较预测值与实际值\n",
    "correct_pred = tf.equal(tf.argmax(y, 1), tf.argmax(prediction, 1)) #argmax 返回沿着某个维度最大值的位置\n",
    "\n",
    "#准确率\n",
    "accuracy = tf.reduce_mean(tf.cast(correct_pred, tf.float32))\n",
    "\n",
    "with tf.Session() as sess:\n",
    "    sess.run(init)\n",
    "    \n",
    "    for step in range(20):\n",
    "        for batch in range(batch_count):\n",
    "            batch_xs, batch_ys = mnist.train.next_batch(batch_size)\n",
    "            sess.run(train, feed_dict={x:batch_xs, y:batch_ys})\n",
    "        \n",
    "        acc = sess.run(accuracy, feed_dict={x:mnist.test.images, y:mnist.test.labels})\n",
    "        print(\"step:\" + str(step) + \" accurancy:\" + str(acc))\n",
    "\n"
   ]
  },
  {
   "cell_type": "code",
   "execution_count": null,
   "metadata": {},
   "outputs": [],
   "source": []
  }
 ],
 "metadata": {
  "kernelspec": {
   "display_name": "Python 3",
   "language": "python",
   "name": "python3"
  },
  "language_info": {
   "codemirror_mode": {
    "name": "ipython",
    "version": 3
   },
   "file_extension": ".py",
   "mimetype": "text/x-python",
   "name": "python",
   "nbconvert_exporter": "python",
   "pygments_lexer": "ipython3",
   "version": "3.5.5"
  }
 },
 "nbformat": 4,
 "nbformat_minor": 2
}
